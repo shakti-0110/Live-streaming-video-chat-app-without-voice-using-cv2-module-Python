{
 "cells": [
  {
   "cell_type": "code",
   "execution_count": null,
   "id": "459284e2",
   "metadata": {},
   "outputs": [],
   "source": [
    "import cv2, pickle, socket, struct\n",
    "import imutils\n",
    "import pyshine as ps"
   ]
  },
  {
   "cell_type": "code",
   "execution_count": null,
   "id": "417c046c",
   "metadata": {},
   "outputs": [],
   "source": [
    "sc = socket.socket()\n"
   ]
  },
  {
   "cell_type": "code",
   "execution_count": null,
   "id": "70e4aa7d",
   "metadata": {},
   "outputs": [],
   "source": [
    "port = 3333\n",
    "sc.bind((\"\", port))\n",
    "sc.listen()\n",
    "print(\"Socket is listening..\")"
   ]
  },
  {
   "cell_type": "code",
   "execution_count": null,
   "id": "06824b12",
   "metadata": {},
   "outputs": [],
   "source": [
    "while True:\n",
    "    session, address = sc.accept()\n",
    "    print(\"Connected to : \",address)\n",
    "    if session:\n",
    "        cam = cv2.VideoCapture(0)\n",
    "        while(cam.isOpened()):\n",
    "            ret, img = cam.read()\n",
    "            data = pickle.dumps(img)\n",
    "            msg = struct.pack(\"Q\", len(data))+data\n",
    "            text  =  f\"CLIENT: {address}\"\n",
    "            img =  ps.putBText(img,text,10,10,vspace=10,hspace=1,font_scale=0.7,background_RGB=(255,0,0),text_RGB=(255,250,250))\n",
    "            session.sendall(msg)\n",
    "            cv2.imshow(\"Transmitting vdo..\",img)\n",
    "            if cv2.waitKey(1) == 13:\n",
    "                cv2.destroyAllWindows()\n",
    "                session.close()\n",
    "                break"
   ]
  },
  {
   "cell_type": "code",
   "execution_count": null,
   "id": "79213ade",
   "metadata": {},
   "outputs": [],
   "source": []
  },
  {
   "cell_type": "code",
   "execution_count": null,
   "id": "a7f593f9",
   "metadata": {},
   "outputs": [],
   "source": []
  },
  {
   "cell_type": "code",
   "execution_count": null,
   "id": "9999cead",
   "metadata": {},
   "outputs": [],
   "source": []
  }
 ],
 "metadata": {
  "kernelspec": {
   "display_name": "Python 3",
   "language": "python",
   "name": "python3"
  },
  "language_info": {
   "codemirror_mode": {
    "name": "ipython",
    "version": 3
   },
   "file_extension": ".py",
   "mimetype": "text/x-python",
   "name": "python",
   "nbconvert_exporter": "python",
   "pygments_lexer": "ipython3",
   "version": "3.8.8"
  }
 },
 "nbformat": 4,
 "nbformat_minor": 5
}
