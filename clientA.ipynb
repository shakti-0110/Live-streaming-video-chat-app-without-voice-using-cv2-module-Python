{
 "cells": [
  {
   "cell_type": "code",
   "execution_count": 1,
   "id": "ce09682d",
   "metadata": {},
   "outputs": [
    {
     "name": "stdout",
     "output_type": "stream",
     "text": [
      "Warning! No module named 'sounddevice'\n",
      "Warning! No module named 'keras'\n"
     ]
    }
   ],
   "source": [
    "import cv2, pickle, socket, struct\n",
    "import imutils\n",
    "import pyshine as ps"
   ]
  },
  {
   "cell_type": "code",
   "execution_count": 2,
   "id": "467b6f24",
   "metadata": {},
   "outputs": [],
   "source": [
    "sc = socket.socket()"
   ]
  },
  {
   "cell_type": "code",
   "execution_count": 3,
   "id": "bb8ec305",
   "metadata": {},
   "outputs": [],
   "source": [
    "port = 3333\n",
    "server_ip = \"192.168.43.116\"\n",
    "sc.connect((server_ip,port))\n",
    "data = b\"\"\n",
    "payload_size = struct.calcsize(\"Q\")\n",
    "while True:\n",
    "    while len(data) < payload_size:\n",
    "        packet = sc.recv(4*1024)\n",
    "        if not packet: break\n",
    "        data += packet\n",
    "    packed_msg_size = data[:payload_size]\n",
    "    data = data[payload_size:]\n",
    "    msg_size = struct.unpack(\"Q\",packed_msg_size)[0]\n",
    "        \n",
    "    while len(data) < msg_size:\n",
    "        data+= sc.recv(4*1024)\n",
    "    img_data = data[:msg_size]\n",
    "    data = data[msg_size:]\n",
    "   \n",
    "    img = pickle.loads(img_data)\n",
    "    \n",
    "    text  =  f\"TO: {server_ip}\"\n",
    "    img =  ps.putBText(img,text,10,10,vspace=10,hspace=1,font_scale=0.7,background_RGB=(255,0,0),text_RGB=(255,250,250))\n",
    "    cv2.imshow(\"Receiving video\", img)\n",
    "    if cv2.waitKey(1) == 13:\n",
    "        cv2.destroyAllWindows()\n",
    "        break\n",
    "        \n",
    "sc.close() "
   ]
  },
  {
   "cell_type": "code",
   "execution_count": null,
   "id": "4ee1695b",
   "metadata": {},
   "outputs": [],
   "source": []
  },
  {
   "cell_type": "code",
   "execution_count": null,
   "id": "3c49e6c7",
   "metadata": {},
   "outputs": [],
   "source": []
  }
 ],
 "metadata": {
  "kernelspec": {
   "display_name": "Python 3",
   "language": "python",
   "name": "python3"
  },
  "language_info": {
   "codemirror_mode": {
    "name": "ipython",
    "version": 3
   },
   "file_extension": ".py",
   "mimetype": "text/x-python",
   "name": "python",
   "nbconvert_exporter": "python",
   "pygments_lexer": "ipython3",
   "version": "3.8.8"
  }
 },
 "nbformat": 4,
 "nbformat_minor": 5
}
